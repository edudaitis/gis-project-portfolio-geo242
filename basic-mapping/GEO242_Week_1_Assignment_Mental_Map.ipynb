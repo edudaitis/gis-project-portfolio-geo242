{
  "nbformat": 4,
  "nbformat_minor": 0,
  "metadata": {
    "colab": {
      "provenance": [],
      "toc_visible": true,
      "include_colab_link": true
    },
    "kernelspec": {
      "name": "python3",
      "display_name": "Python 3"
    },
    "language_info": {
      "name": "python"
    }
  },
  "cells": [
    {
      "cell_type": "markdown",
      "metadata": {
        "id": "view-in-github",
        "colab_type": "text"
      },
      "source": [
        "<a href=\"https://colab.research.google.com/github/edudaitis/gis-project-portfolio-geo242/blob/main/basic-mapping/GEO242_Week_1_Assignment_Mental_Map.ipynb\" target=\"_parent\"><img src=\"https://colab.research.google.com/assets/colab-badge.svg\" alt=\"Open In Colab\"/></a>"
      ]
    },
    {
      "cell_type": "markdown",
      "source": [
        "## **GEO 242A Week 1 Assignment: Mental Map**"
      ],
      "metadata": {
        "id": "C0ymCPR5aSHN"
      }
    },
    {
      "cell_type": "markdown",
      "source": [
        "🚀 Created by Emily Dudaitis\n",
        "\n",
        "08/30/24"
      ],
      "metadata": {
        "id": "Pt_OREXFPvkr"
      }
    },
    {
      "cell_type": "markdown",
      "source": [
        "### **Get ready to start**\n",
        "\n",
        "- Use **`File\\Save a copy in Drive`** to make a copy of this notebook in my own Google Drive\n",
        "- By default, this notebooks will be saved to a new folder called **`Colab`** under root directory of my Google Drive"
      ],
      "metadata": {
        "id": "v84Fkx0LHARM"
      }
    },
    {
      "cell_type": "markdown",
      "source": [
        "### **My mental map of Miami University**\n",
        "\n",
        "1. **Create a mental map**\n",
        "   - Draw a mental map of Miami University Oxford Campus and/or City of Oxford on a piece of paper (or in your computer)\n",
        "\n",
        "2. **Share map**\n",
        "   - Take a picture of my mental map if drawn on paper\n",
        "   - Upload the picture of my mental map to my Google Drive folder for Week 1 assignment\n",
        "   - Change Share privilege to make this file viewable by anyone with a link\n",
        "   - Copy the sharable link\n",
        "\n",
        "   ```markdown\n",
        "  https://drive.google.com/file/d/1dFL79_gC9Bda6A7_T7x9Ipzi7uokDB1p/view?usp=drive_link\n",
        "   ```\n",
        "\n",
        "3. **Obtain a shareable link**\n",
        "\n",
        "   - The default link I get for this picture file cannot be directly used in Notebook to show the picture correctly\n",
        "   - I made some changes to the default sharable link:\n",
        "    - Keep the **`1A2B3C4D5E6F7G8H9I0J`** part because this is the unique file ID for the picture\n",
        "    - Deleted **`/view?usp=sharing`** at the end of the link\n",
        "    - Replaced **`/file/d/`** with **`/uc?export=view&id=`**\n",
        "   - Here is an example I referred to:\n",
        "    - Default sharable link\n",
        "```\n",
        "https://drive.google.com/file/d/1A2B3C4D5E6F7G8H9I0J/view?usp=sharing\n",
        "```\n",
        "    - The direct link for view from this example would be\n",
        "```\n",
        "https://drive.google.com/uc?export=view&id=1A2B3C4D5E6F7G8H9I0J\n",
        "```\n",
        "   - The link below is the correct one I need to use in the next section\n",
        "```\n",
        "https://drive.google.com/file/d/1dFL79_gC9Bda6A7_T7x9Ipzi7uokDB1p/uc?export=view&id=\n",
        "```\n",
        "\n",
        "\n",
        "4. **Mental map**\n",
        "\n",
        "   ![Map](https://drive.google.com/uc?export=view&id=1dFL79_gC9Bda6A7_T7x9Ipzi7uokDB1p) <!-- Replace link with the link generated above to insert your mental map -->"
      ],
      "metadata": {
        "id": "WVs4J1jQbESU"
      }
    },
    {
      "cell_type": "markdown",
      "source": [
        "### **Reflection on my first experience with Google Colab**\n",
        "\n",
        "- Here is a table showing things that I feel excited and challenging in my first experience working in markdown\n",
        "\n",
        "| Things I'm excited about      | Things challenging for me  |\n",
        "| ----------------------------- | -------------------------- |\n",
        "| To learn what I will be able to do with this program     | Solving tech issues  |\n",
        "| Advancing my tech literacy     | Inserting links    |\n",
        "| Using my past knowledge and seeing how it relates here     | File organization  |\n",
        "\n",
        "- Here is how I rate my first experience working in markdown\n",
        "  - Formating and organization functionality\n",
        "    - Google Colab was an adjustment to get use to since I've never used it before, but helpful resources and practice makes it quite easy to use in the end. It's easy to keep things organized with the use of new text boxes and sections.\n",
        "  - Navigate the tool using its GUI\n",
        "    - The functions of all the tools used was thoroughly explained and tool icons are pretty self-explanatory, so navigating each tool was pretty easy."
      ],
      "metadata": {
        "id": "i4RTLellbUh7"
      }
    },
    {
      "cell_type": "markdown",
      "source": [
        "### **Save and share this notebook**\n",
        "\n",
        "- I made this notebook viewable by anyone with the link\n",
        "\n",
        "![Share Notebook](https://drive.google.com/uc?export=view&id=1K4a3saeAXrzKcB4fkivkjUmLLWJ1R7oS)\n",
        "\n",
        "- Then I copied this link to submit to the [Canvas assignment](https://miamioh.instructure.com/courses/222781/assignments/2887539)"
      ],
      "metadata": {
        "id": "kkgukjDcXsqC"
      }
    },
    {
      "cell_type": "markdown",
      "source": [
        "### **Reference**\n",
        "\n",
        "- [Markdown cheat sheet](https://www.markdownguide.org/cheat-sheet/)\n",
        "- [Insert other references if available]"
      ],
      "metadata": {
        "id": "fvMbEX89YLeY"
      }
    }
  ]
}